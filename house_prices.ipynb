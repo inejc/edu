{
 "cells": [
  {
   "cell_type": "markdown",
   "metadata": {},
   "source": [
    "# Initial Regression Analysis of House Prices\n",
    "\n",
    "In this notebook we are interested in building a predictive regression model for house prices. Data describes the sales of individual residential properties in Ames, Iowa from 2006 to 2010. We will perform a very basic initial analysis and fit a linear predictive model to the observed data."
   ]
  },
  {
   "cell_type": "code",
   "execution_count": 169,
   "metadata": {},
   "outputs": [],
   "source": [
    "# note that the latest dev version of sklearn is used (because of CategoricalEncoder)\n",
    "# install it with pip install git+https://github.com/scikit-learn/scikit-learn.git\n",
    "\n",
    "import warnings\n",
    "import matplotlib\n",
    "import numpy as np\n",
    "import pandas as pd\n",
    "from plotnine import *\n",
    "from scipy.stats import norm, uniform, randint\n",
    "from scipy.stats.mstats import mquantiles\n",
    "from sklearn.dummy import DummyRegressor\n",
    "from sklearn.exceptions import DataConversionWarning\n",
    "from sklearn.feature_selection import VarianceThreshold, f_regression, SelectKBest\n",
    "from sklearn.linear_model import LinearRegression, Ridge, Lasso, ElasticNet\n",
    "from sklearn.model_selection import RandomizedSearchCV, cross_val_score\n",
    "from sklearn.metrics import mean_squared_log_error, make_scorer\n",
    "from sklearn.pipeline import make_pipeline\n",
    "from sklearn.preprocessing import CategoricalEncoder, StandardScaler, Imputer, FunctionTransformer, PolynomialFeatures\n",
    "from sklearn.utils import resample\n",
    "from sklearn_pandas import DataFrameMapper, CategoricalImputer\n",
    "\n",
    "%matplotlib inline\n",
    "warnings.filterwarnings(action='ignore', category=DataConversionWarning)\n",
    "np.random.seed(0)"
   ]
  },
  {
   "cell_type": "code",
   "execution_count": 2,
   "metadata": {
    "scrolled": true
   },
   "outputs": [
    {
     "name": "stdout",
     "output_type": "stream",
     "text": [
      "train data dimensions: (1460, 79)\n",
      "response column name and dimensions: SalePrice, (1460,)\n",
      "test data dimensions: (1459, 79)\n"
     ]
    },
    {
     "data": {
      "text/html": [
       "<div>\n",
       "<style scoped>\n",
       "    .dataframe tbody tr th:only-of-type {\n",
       "        vertical-align: middle;\n",
       "    }\n",
       "\n",
       "    .dataframe tbody tr th {\n",
       "        vertical-align: top;\n",
       "    }\n",
       "\n",
       "    .dataframe thead th {\n",
       "        text-align: right;\n",
       "    }\n",
       "</style>\n",
       "<table border=\"1\" class=\"dataframe\">\n",
       "  <thead>\n",
       "    <tr style=\"text-align: right;\">\n",
       "      <th></th>\n",
       "      <th>MSSubClass</th>\n",
       "      <th>MSZoning</th>\n",
       "      <th>LotFrontage</th>\n",
       "      <th>LotArea</th>\n",
       "      <th>Street</th>\n",
       "      <th>Alley</th>\n",
       "      <th>LotShape</th>\n",
       "      <th>LandContour</th>\n",
       "      <th>Utilities</th>\n",
       "      <th>LotConfig</th>\n",
       "      <th>...</th>\n",
       "      <th>ScreenPorch</th>\n",
       "      <th>PoolArea</th>\n",
       "      <th>PoolQC</th>\n",
       "      <th>Fence</th>\n",
       "      <th>MiscFeature</th>\n",
       "      <th>MiscVal</th>\n",
       "      <th>MoSold</th>\n",
       "      <th>YrSold</th>\n",
       "      <th>SaleType</th>\n",
       "      <th>SaleCondition</th>\n",
       "    </tr>\n",
       "    <tr>\n",
       "      <th>Id</th>\n",
       "      <th></th>\n",
       "      <th></th>\n",
       "      <th></th>\n",
       "      <th></th>\n",
       "      <th></th>\n",
       "      <th></th>\n",
       "      <th></th>\n",
       "      <th></th>\n",
       "      <th></th>\n",
       "      <th></th>\n",
       "      <th></th>\n",
       "      <th></th>\n",
       "      <th></th>\n",
       "      <th></th>\n",
       "      <th></th>\n",
       "      <th></th>\n",
       "      <th></th>\n",
       "      <th></th>\n",
       "      <th></th>\n",
       "      <th></th>\n",
       "      <th></th>\n",
       "    </tr>\n",
       "  </thead>\n",
       "  <tbody>\n",
       "    <tr>\n",
       "      <th>1</th>\n",
       "      <td>60</td>\n",
       "      <td>RL</td>\n",
       "      <td>65.0</td>\n",
       "      <td>8450</td>\n",
       "      <td>Pave</td>\n",
       "      <td>NaN</td>\n",
       "      <td>Reg</td>\n",
       "      <td>Lvl</td>\n",
       "      <td>AllPub</td>\n",
       "      <td>Inside</td>\n",
       "      <td>...</td>\n",
       "      <td>0</td>\n",
       "      <td>0</td>\n",
       "      <td>NaN</td>\n",
       "      <td>NaN</td>\n",
       "      <td>NaN</td>\n",
       "      <td>0</td>\n",
       "      <td>2</td>\n",
       "      <td>2008</td>\n",
       "      <td>WD</td>\n",
       "      <td>Normal</td>\n",
       "    </tr>\n",
       "    <tr>\n",
       "      <th>2</th>\n",
       "      <td>20</td>\n",
       "      <td>RL</td>\n",
       "      <td>80.0</td>\n",
       "      <td>9600</td>\n",
       "      <td>Pave</td>\n",
       "      <td>NaN</td>\n",
       "      <td>Reg</td>\n",
       "      <td>Lvl</td>\n",
       "      <td>AllPub</td>\n",
       "      <td>FR2</td>\n",
       "      <td>...</td>\n",
       "      <td>0</td>\n",
       "      <td>0</td>\n",
       "      <td>NaN</td>\n",
       "      <td>NaN</td>\n",
       "      <td>NaN</td>\n",
       "      <td>0</td>\n",
       "      <td>5</td>\n",
       "      <td>2007</td>\n",
       "      <td>WD</td>\n",
       "      <td>Normal</td>\n",
       "    </tr>\n",
       "    <tr>\n",
       "      <th>3</th>\n",
       "      <td>60</td>\n",
       "      <td>RL</td>\n",
       "      <td>68.0</td>\n",
       "      <td>11250</td>\n",
       "      <td>Pave</td>\n",
       "      <td>NaN</td>\n",
       "      <td>IR1</td>\n",
       "      <td>Lvl</td>\n",
       "      <td>AllPub</td>\n",
       "      <td>Inside</td>\n",
       "      <td>...</td>\n",
       "      <td>0</td>\n",
       "      <td>0</td>\n",
       "      <td>NaN</td>\n",
       "      <td>NaN</td>\n",
       "      <td>NaN</td>\n",
       "      <td>0</td>\n",
       "      <td>9</td>\n",
       "      <td>2008</td>\n",
       "      <td>WD</td>\n",
       "      <td>Normal</td>\n",
       "    </tr>\n",
       "    <tr>\n",
       "      <th>4</th>\n",
       "      <td>70</td>\n",
       "      <td>RL</td>\n",
       "      <td>60.0</td>\n",
       "      <td>9550</td>\n",
       "      <td>Pave</td>\n",
       "      <td>NaN</td>\n",
       "      <td>IR1</td>\n",
       "      <td>Lvl</td>\n",
       "      <td>AllPub</td>\n",
       "      <td>Corner</td>\n",
       "      <td>...</td>\n",
       "      <td>0</td>\n",
       "      <td>0</td>\n",
       "      <td>NaN</td>\n",
       "      <td>NaN</td>\n",
       "      <td>NaN</td>\n",
       "      <td>0</td>\n",
       "      <td>2</td>\n",
       "      <td>2006</td>\n",
       "      <td>WD</td>\n",
       "      <td>Abnorml</td>\n",
       "    </tr>\n",
       "    <tr>\n",
       "      <th>5</th>\n",
       "      <td>60</td>\n",
       "      <td>RL</td>\n",
       "      <td>84.0</td>\n",
       "      <td>14260</td>\n",
       "      <td>Pave</td>\n",
       "      <td>NaN</td>\n",
       "      <td>IR1</td>\n",
       "      <td>Lvl</td>\n",
       "      <td>AllPub</td>\n",
       "      <td>FR2</td>\n",
       "      <td>...</td>\n",
       "      <td>0</td>\n",
       "      <td>0</td>\n",
       "      <td>NaN</td>\n",
       "      <td>NaN</td>\n",
       "      <td>NaN</td>\n",
       "      <td>0</td>\n",
       "      <td>12</td>\n",
       "      <td>2008</td>\n",
       "      <td>WD</td>\n",
       "      <td>Normal</td>\n",
       "    </tr>\n",
       "  </tbody>\n",
       "</table>\n",
       "<p>5 rows × 79 columns</p>\n",
       "</div>"
      ],
      "text/plain": [
       "    MSSubClass MSZoning  LotFrontage  LotArea Street Alley LotShape  \\\n",
       "Id                                                                    \n",
       "1           60       RL         65.0     8450   Pave   NaN      Reg   \n",
       "2           20       RL         80.0     9600   Pave   NaN      Reg   \n",
       "3           60       RL         68.0    11250   Pave   NaN      IR1   \n",
       "4           70       RL         60.0     9550   Pave   NaN      IR1   \n",
       "5           60       RL         84.0    14260   Pave   NaN      IR1   \n",
       "\n",
       "   LandContour Utilities LotConfig      ...       ScreenPorch PoolArea PoolQC  \\\n",
       "Id                                      ...                                     \n",
       "1          Lvl    AllPub    Inside      ...                 0        0    NaN   \n",
       "2          Lvl    AllPub       FR2      ...                 0        0    NaN   \n",
       "3          Lvl    AllPub    Inside      ...                 0        0    NaN   \n",
       "4          Lvl    AllPub    Corner      ...                 0        0    NaN   \n",
       "5          Lvl    AllPub       FR2      ...                 0        0    NaN   \n",
       "\n",
       "   Fence MiscFeature MiscVal  MoSold  YrSold  SaleType  SaleCondition  \n",
       "Id                                                                     \n",
       "1    NaN         NaN       0       2    2008        WD         Normal  \n",
       "2    NaN         NaN       0       5    2007        WD         Normal  \n",
       "3    NaN         NaN       0       9    2008        WD         Normal  \n",
       "4    NaN         NaN       0       2    2006        WD        Abnorml  \n",
       "5    NaN         NaN       0      12    2008        WD         Normal  \n",
       "\n",
       "[5 rows x 79 columns]"
      ]
     },
     "execution_count": 2,
     "metadata": {},
     "output_type": "execute_result"
    }
   ],
   "source": [
    "# load the data\n",
    "X_tr = pd.read_csv('train.csv', index_col='Id')\n",
    "X_te = pd.read_csv('test.csv', index_col='Id')\n",
    "\n",
    "response_col_name = X_tr.columns[-1]\n",
    "y_tr = X_tr[response_col_name]\n",
    "X_tr.drop(response_col_name, axis=1, inplace=True)\n",
    "\n",
    "print(\"train data dimensions: {}\".format(X_tr.shape))\n",
    "print(\"response column name and dimensions: {}, {}\".format(response_col_name, y_tr.shape))\n",
    "print(\"test data dimensions: {}\".format(X_te.shape))\n",
    "X_tr.head()"
   ]
  },
  {
   "cell_type": "markdown",
   "metadata": {},
   "source": [
    "## 1. Preprocessing\n",
    "As a first step we will put the observed data into the form that is suitable for modelling. All of the transformations are going to be part of the learning process in order to avoid getting overconfident results (i.e. we'll use sklearn's Pipeline objects). First let's specify (based on *data_description.txt*) which features will be treated as categorical, ordinal, poisson and continuous. Unfortunately we have to do this manually."
   ]
  },
  {
   "cell_type": "code",
   "execution_count": 3,
   "metadata": {},
   "outputs": [
    {
     "data": {
      "text/plain": [
       "79"
      ]
     },
     "execution_count": 3,
     "metadata": {},
     "output_type": "execute_result"
    }
   ],
   "source": [
    "categorical_cols = [\n",
    "    'MSSubClass',\n",
    "    'MSZoning',\n",
    "    'Street',\n",
    "    'Alley',\n",
    "    'LotShape',\n",
    "    'LandContour',\n",
    "    'Utilities',\n",
    "    'LotConfig',\n",
    "    'LandSlope',\n",
    "    'Neighborhood',\n",
    "    'Condition1',\n",
    "    'Condition2',\n",
    "    'BldgType',\n",
    "    'HouseStyle',\n",
    "    'RoofStyle',\n",
    "    'RoofMatl',\n",
    "    'Exterior1st',\n",
    "    'Exterior2nd',\n",
    "    'MasVnrType',\n",
    "    'Foundation',\n",
    "    'Heating',\n",
    "    'CentralAir',\n",
    "    'Electrical',\n",
    "    'GarageType',\n",
    "    'PavedDrive',\n",
    "    'MiscFeature',\n",
    "    'SaleType',\n",
    "    'SaleCondition']\n",
    "\n",
    "ordinal_cols = [\n",
    "    'OverallQual',\n",
    "    'OverallCond',\n",
    "    'ExterQual',    # not encoded\n",
    "    'ExterCond',    # not encoded\n",
    "    'BsmtQual',     # not encoded\n",
    "    'BsmtCond',     # not encoded\n",
    "    'BsmtExposure', # not encoded\n",
    "    'BsmtFinType1', # not encoded\n",
    "    'BsmtFinType2', # not encoded\n",
    "    'HeatingQC',    # not encoded\n",
    "    'KitchenQual',  # not encoded\n",
    "    'Functional',   # not encoded\n",
    "    'FireplaceQu',  # not encoded\n",
    "    'GarageFinish', # not encoded\n",
    "    'GarageQual',   # not encoded\n",
    "    'GarageCond',   # not encoded\n",
    "    'PoolQC',       # not encoded\n",
    "    'Fence',        # not encoded\n",
    "    'MoSold']\n",
    "\n",
    "poisson_cols = [\n",
    "    'BsmtFullBath',\n",
    "    'BsmtHalfBath',\n",
    "    'FullBath',\n",
    "    'HalfBath',\n",
    "    'BedroomAbvGr',\n",
    "    'KitchenAbvGr',\n",
    "    'TotRmsAbvGrd',\n",
    "    'Fireplaces',\n",
    "    'GarageCars']\n",
    "\n",
    "continuous_cols = [\n",
    "    'LotFrontage',\n",
    "    'LotArea',\n",
    "    'YearBuilt',\n",
    "    'YearRemodAdd',\n",
    "    'MasVnrArea',\n",
    "    'BsmtFinSF1',\n",
    "    'BsmtFinSF2',\n",
    "    'BsmtUnfSF',\n",
    "    'TotalBsmtSF',\n",
    "    '1stFlrSF',\n",
    "    '2ndFlrSF',\n",
    "    'LowQualFinSF',\n",
    "    'GrLivArea',\n",
    "    'GarageYrBlt',\n",
    "    'GarageArea',\n",
    "    'WoodDeckSF',\n",
    "    'OpenPorchSF',\n",
    "    'EnclosedPorch',\n",
    "    '3SsnPorch',\n",
    "    'ScreenPorch',\n",
    "    'PoolArea',\n",
    "    'MiscVal',\n",
    "    'YrSold']\n",
    "\n",
    "len(categorical_cols + ordinal_cols + poisson_cols + continuous_cols)"
   ]
  },
  {
   "cell_type": "markdown",
   "metadata": {},
   "source": [
    "### 1.1 Missing Values\n",
    "Let's take a look at the fraction of missing values for each feature in the training and test sets."
   ]
  },
  {
   "cell_type": "code",
   "execution_count": 4,
   "metadata": {},
   "outputs": [],
   "source": [
    "def get_fraction_nan(df):\n",
    "    fraction_nan = df.isnull().sum() / len(df)\n",
    "    return fraction_nan[fraction_nan != 0].sort_values(ascending=False)"
   ]
  },
  {
   "cell_type": "code",
   "execution_count": 5,
   "metadata": {},
   "outputs": [
    {
     "data": {
      "text/plain": [
       "PoolQC          0.995205\n",
       "MiscFeature     0.963014\n",
       "Alley           0.937671\n",
       "Fence           0.807534\n",
       "FireplaceQu     0.472603\n",
       "LotFrontage     0.177397\n",
       "GarageYrBlt     0.055479\n",
       "GarageType      0.055479\n",
       "GarageFinish    0.055479\n",
       "GarageQual      0.055479\n",
       "GarageCond      0.055479\n",
       "BsmtFinType2    0.026027\n",
       "BsmtExposure    0.026027\n",
       "BsmtFinType1    0.025342\n",
       "BsmtCond        0.025342\n",
       "BsmtQual        0.025342\n",
       "MasVnrArea      0.005479\n",
       "MasVnrType      0.005479\n",
       "Electrical      0.000685\n",
       "dtype: float64"
      ]
     },
     "execution_count": 5,
     "metadata": {},
     "output_type": "execute_result"
    }
   ],
   "source": [
    "get_fraction_nan(X_tr)"
   ]
  },
  {
   "cell_type": "code",
   "execution_count": 6,
   "metadata": {},
   "outputs": [
    {
     "data": {
      "text/plain": [
       "PoolQC          0.997944\n",
       "MiscFeature     0.965045\n",
       "Alley           0.926662\n",
       "Fence           0.801234\n",
       "FireplaceQu     0.500343\n",
       "LotFrontage     0.155586\n",
       "GarageYrBlt     0.053461\n",
       "GarageCond      0.053461\n",
       "GarageQual      0.053461\n",
       "GarageFinish    0.053461\n",
       "GarageType      0.052090\n",
       "BsmtCond        0.030843\n",
       "BsmtExposure    0.030158\n",
       "BsmtQual        0.030158\n",
       "BsmtFinType1    0.028787\n",
       "BsmtFinType2    0.028787\n",
       "MasVnrType      0.010966\n",
       "MasVnrArea      0.010281\n",
       "MSZoning        0.002742\n",
       "BsmtFullBath    0.001371\n",
       "BsmtHalfBath    0.001371\n",
       "Utilities       0.001371\n",
       "Functional      0.001371\n",
       "Exterior2nd     0.000685\n",
       "Exterior1st     0.000685\n",
       "SaleType        0.000685\n",
       "BsmtFinSF1      0.000685\n",
       "BsmtFinSF2      0.000685\n",
       "BsmtUnfSF       0.000685\n",
       "KitchenQual     0.000685\n",
       "GarageCars      0.000685\n",
       "GarageArea      0.000685\n",
       "TotalBsmtSF     0.000685\n",
       "dtype: float64"
      ]
     },
     "execution_count": 6,
     "metadata": {},
     "output_type": "execute_result"
    }
   ],
   "source": [
    "get_fraction_nan(X_te)"
   ]
  },
  {
   "cell_type": "markdown",
   "metadata": {},
   "source": [
    "At first glance it seems that we are dealing with quite a lot of missing values, but as it turns out some of the NaNs actually provide meaningful info (see *data_description.txt*). E.g. NaN values in the *PoolQC* (pool quality) feature mean *no pool*, rather than *we don't know*.\n",
    "\n",
    "We should be careful with true missing data however, e.g. we shouldn't impute mean value for *GarageYrBlt* if there is no garage, etc. Nevertheles, we won't spend time with this as part of the first solution, specially as there aren't a lot of problematic examples (e.g. see fractions for *GarageX* features above).\n",
    "\n",
    "Let's fix the meaningful NaNs first."
   ]
  },
  {
   "cell_type": "code",
   "execution_count": 7,
   "metadata": {},
   "outputs": [],
   "source": [
    "not_nan_cols = [\n",
    "    'PoolQC',\n",
    "    'MiscFeature',\n",
    "    'Alley',\n",
    "    'Fence',\n",
    "    'FireplaceQu',\n",
    "    'GarageCond',\n",
    "    'GarageQual',\n",
    "    'GarageFinish',\n",
    "    'GarageType',\n",
    "    'BsmtCond',\n",
    "    'BsmtExposure',\n",
    "    'BsmtQual',\n",
    "    'BsmtFinType1',\n",
    "    'BsmtFinType2']\n",
    "\n",
    "X_tr[not_nan_cols] = X_tr[not_nan_cols].fillna('No')\n",
    "X_te[not_nan_cols] = X_te[not_nan_cols].fillna('No')"
   ]
  },
  {
   "cell_type": "code",
   "execution_count": 8,
   "metadata": {},
   "outputs": [
    {
     "data": {
      "text/plain": [
       "LotFrontage    0.177397\n",
       "GarageYrBlt    0.055479\n",
       "MasVnrArea     0.005479\n",
       "MasVnrType     0.005479\n",
       "Electrical     0.000685\n",
       "dtype: float64"
      ]
     },
     "execution_count": 8,
     "metadata": {},
     "output_type": "execute_result"
    }
   ],
   "source": [
    "get_fraction_nan(X_tr)"
   ]
  },
  {
   "cell_type": "code",
   "execution_count": 9,
   "metadata": {},
   "outputs": [
    {
     "data": {
      "text/plain": [
       "LotFrontage     0.155586\n",
       "GarageYrBlt     0.053461\n",
       "MasVnrType      0.010966\n",
       "MasVnrArea      0.010281\n",
       "MSZoning        0.002742\n",
       "Functional      0.001371\n",
       "Utilities       0.001371\n",
       "BsmtHalfBath    0.001371\n",
       "BsmtFullBath    0.001371\n",
       "Exterior1st     0.000685\n",
       "Exterior2nd     0.000685\n",
       "SaleType        0.000685\n",
       "BsmtFinSF1      0.000685\n",
       "BsmtFinSF2      0.000685\n",
       "GarageArea      0.000685\n",
       "TotalBsmtSF     0.000685\n",
       "KitchenQual     0.000685\n",
       "GarageCars      0.000685\n",
       "BsmtUnfSF       0.000685\n",
       "dtype: float64"
      ]
     },
     "execution_count": 9,
     "metadata": {},
     "output_type": "execute_result"
    }
   ],
   "source": [
    "get_fraction_nan(X_te)"
   ]
  },
  {
   "cell_type": "code",
   "execution_count": 10,
   "metadata": {},
   "outputs": [],
   "source": [
    "def make_imputer():\n",
    "    # most frequent imputer\n",
    "    impute_most_frequent_cols = categorical_cols + ordinal_cols + poisson_cols\n",
    "    most_frequent_imputer = [([col], CategoricalImputer()) for col in impute_most_frequent_cols]\n",
    "\n",
    "    # mean imputer\n",
    "    mean_imputer = [([col], Imputer(strategy='mean')) for col in continuous_cols]\n",
    "    return DataFrameMapper(most_frequent_imputer + mean_imputer, df_out=True)"
   ]
  },
  {
   "cell_type": "markdown",
   "metadata": {},
   "source": [
    "### 1.2 Encoding and Normalization\n",
    "We will use dummy variables for categorical features. On the other hand, encoding ordinal variables is a more delicate matter. If we use ordinal encoding (e.g. 1, 2, ..., n), weights cannot encode an n-way choice. If we use one-hot encoding we discard the information about relative ordering of the choices. Again, for the purposes of simplicity of the first solution we will use dummy variables for ordinal features. We will use zero mean, unit variance normalization for continuous features. Count data should also be standardized, but let's take a look at the scales of all poisson features first."
   ]
  },
  {
   "cell_type": "code",
   "execution_count": 11,
   "metadata": {},
   "outputs": [
    {
     "data": {
      "text/html": [
       "<div>\n",
       "<style scoped>\n",
       "    .dataframe tbody tr th:only-of-type {\n",
       "        vertical-align: middle;\n",
       "    }\n",
       "\n",
       "    .dataframe tbody tr th {\n",
       "        vertical-align: top;\n",
       "    }\n",
       "\n",
       "    .dataframe thead th {\n",
       "        text-align: right;\n",
       "    }\n",
       "</style>\n",
       "<table border=\"1\" class=\"dataframe\">\n",
       "  <thead>\n",
       "    <tr style=\"text-align: right;\">\n",
       "      <th></th>\n",
       "      <th>min</th>\n",
       "      <th>max</th>\n",
       "    </tr>\n",
       "  </thead>\n",
       "  <tbody>\n",
       "    <tr>\n",
       "      <th>BsmtFullBath</th>\n",
       "      <td>0.0</td>\n",
       "      <td>3.0</td>\n",
       "    </tr>\n",
       "    <tr>\n",
       "      <th>BsmtHalfBath</th>\n",
       "      <td>0.0</td>\n",
       "      <td>2.0</td>\n",
       "    </tr>\n",
       "    <tr>\n",
       "      <th>FullBath</th>\n",
       "      <td>0.0</td>\n",
       "      <td>3.0</td>\n",
       "    </tr>\n",
       "    <tr>\n",
       "      <th>HalfBath</th>\n",
       "      <td>0.0</td>\n",
       "      <td>2.0</td>\n",
       "    </tr>\n",
       "    <tr>\n",
       "      <th>BedroomAbvGr</th>\n",
       "      <td>0.0</td>\n",
       "      <td>8.0</td>\n",
       "    </tr>\n",
       "    <tr>\n",
       "      <th>KitchenAbvGr</th>\n",
       "      <td>0.0</td>\n",
       "      <td>3.0</td>\n",
       "    </tr>\n",
       "    <tr>\n",
       "      <th>TotRmsAbvGrd</th>\n",
       "      <td>2.0</td>\n",
       "      <td>14.0</td>\n",
       "    </tr>\n",
       "    <tr>\n",
       "      <th>Fireplaces</th>\n",
       "      <td>0.0</td>\n",
       "      <td>3.0</td>\n",
       "    </tr>\n",
       "    <tr>\n",
       "      <th>GarageCars</th>\n",
       "      <td>0.0</td>\n",
       "      <td>4.0</td>\n",
       "    </tr>\n",
       "  </tbody>\n",
       "</table>\n",
       "</div>"
      ],
      "text/plain": [
       "              min   max\n",
       "BsmtFullBath  0.0   3.0\n",
       "BsmtHalfBath  0.0   2.0\n",
       "FullBath      0.0   3.0\n",
       "HalfBath      0.0   2.0\n",
       "BedroomAbvGr  0.0   8.0\n",
       "KitchenAbvGr  0.0   3.0\n",
       "TotRmsAbvGrd  2.0  14.0\n",
       "Fireplaces    0.0   3.0\n",
       "GarageCars    0.0   4.0"
      ]
     },
     "execution_count": 11,
     "metadata": {},
     "output_type": "execute_result"
    }
   ],
   "source": [
    "X_tr[poisson_cols].describe().T[['min', 'max']]"
   ]
  },
  {
   "cell_type": "markdown",
   "metadata": {},
   "source": [
    "For now we will normalize count data the same as continuous data, although we should come back to this later."
   ]
  },
  {
   "cell_type": "code",
   "execution_count": 12,
   "metadata": {},
   "outputs": [],
   "source": [
    "def make_encoder():\n",
    "    # one-hot encoding\n",
    "    encoder_params = {'encoding': 'onehot-dense', 'handle_unknown': 'ignore'}\n",
    "    categorical_encoder = [([col], CategoricalEncoder(**encoder_params)) for col in categorical_cols + ordinal_cols]\n",
    "    return DataFrameMapper(categorical_encoder, default=None, df_out=True)\n",
    "\n",
    "def make_normalizer(df_out):\n",
    "    # zero mean, unit variance\n",
    "    unit_normal_standardizer = [([col], StandardScaler()) for col in continuous_cols + poisson_cols]\n",
    "    return DataFrameMapper(unit_normal_standardizer, default=None, df_out=df_out)"
   ]
  },
  {
   "cell_type": "code",
   "execution_count": 13,
   "metadata": {},
   "outputs": [],
   "source": [
    "# a function that initializes a new pipeline (unfitted objects)\n",
    "def init_pipeline(*transformers, df_out=False):\n",
    "    imputer = make_imputer()\n",
    "    cat_encoder = make_encoder()\n",
    "    normalizer = make_normalizer(df_out)\n",
    "    return make_pipeline(imputer, cat_encoder, normalizer, *transformers)"
   ]
  },
  {
   "cell_type": "code",
   "execution_count": 14,
   "metadata": {},
   "outputs": [
    {
     "name": "stdout",
     "output_type": "stream",
     "text": [
      "preprocessed train data dimensions: (1460, 343)\n"
     ]
    },
    {
     "data": {
      "text/html": [
       "<div>\n",
       "<style scoped>\n",
       "    .dataframe tbody tr th:only-of-type {\n",
       "        vertical-align: middle;\n",
       "    }\n",
       "\n",
       "    .dataframe tbody tr th {\n",
       "        vertical-align: top;\n",
       "    }\n",
       "\n",
       "    .dataframe thead th {\n",
       "        text-align: right;\n",
       "    }\n",
       "</style>\n",
       "<table border=\"1\" class=\"dataframe\">\n",
       "  <thead>\n",
       "    <tr style=\"text-align: right;\">\n",
       "      <th></th>\n",
       "      <th>LotFrontage</th>\n",
       "      <th>LotArea</th>\n",
       "      <th>YearBuilt</th>\n",
       "      <th>YearRemodAdd</th>\n",
       "      <th>MasVnrArea</th>\n",
       "      <th>BsmtFinSF1</th>\n",
       "      <th>BsmtFinSF2</th>\n",
       "      <th>BsmtUnfSF</th>\n",
       "      <th>TotalBsmtSF</th>\n",
       "      <th>1stFlrSF</th>\n",
       "      <th>...</th>\n",
       "      <th>MoSold_2</th>\n",
       "      <th>MoSold_3</th>\n",
       "      <th>MoSold_4</th>\n",
       "      <th>MoSold_5</th>\n",
       "      <th>MoSold_6</th>\n",
       "      <th>MoSold_7</th>\n",
       "      <th>MoSold_8</th>\n",
       "      <th>MoSold_9</th>\n",
       "      <th>MoSold_10</th>\n",
       "      <th>MoSold_11</th>\n",
       "    </tr>\n",
       "    <tr>\n",
       "      <th>Id</th>\n",
       "      <th></th>\n",
       "      <th></th>\n",
       "      <th></th>\n",
       "      <th></th>\n",
       "      <th></th>\n",
       "      <th></th>\n",
       "      <th></th>\n",
       "      <th></th>\n",
       "      <th></th>\n",
       "      <th></th>\n",
       "      <th></th>\n",
       "      <th></th>\n",
       "      <th></th>\n",
       "      <th></th>\n",
       "      <th></th>\n",
       "      <th></th>\n",
       "      <th></th>\n",
       "      <th></th>\n",
       "      <th></th>\n",
       "      <th></th>\n",
       "      <th></th>\n",
       "    </tr>\n",
       "  </thead>\n",
       "  <tbody>\n",
       "    <tr>\n",
       "      <th>1</th>\n",
       "      <td>-0.229372</td>\n",
       "      <td>-0.207142</td>\n",
       "      <td>1.05099</td>\n",
       "      <td>0.878668</td>\n",
       "      <td>0.511418</td>\n",
       "      <td>0.575425</td>\n",
       "      <td>-0.288653</td>\n",
       "      <td>-0.944591</td>\n",
       "      <td>-0.459303</td>\n",
       "      <td>-0.793434</td>\n",
       "      <td>...</td>\n",
       "      <td>0</td>\n",
       "      <td>0</td>\n",
       "      <td>0</td>\n",
       "      <td>0</td>\n",
       "      <td>0</td>\n",
       "      <td>0</td>\n",
       "      <td>0</td>\n",
       "      <td>0</td>\n",
       "      <td>0</td>\n",
       "      <td>0</td>\n",
       "    </tr>\n",
       "    <tr>\n",
       "      <th>2</th>\n",
       "      <td>0.451936</td>\n",
       "      <td>-0.0918864</td>\n",
       "      <td>0.156734</td>\n",
       "      <td>-0.429577</td>\n",
       "      <td>-0.57441</td>\n",
       "      <td>1.17199</td>\n",
       "      <td>-0.288653</td>\n",
       "      <td>-0.641228</td>\n",
       "      <td>0.466465</td>\n",
       "      <td>0.25714</td>\n",
       "      <td>...</td>\n",
       "      <td>0</td>\n",
       "      <td>0</td>\n",
       "      <td>1</td>\n",
       "      <td>0</td>\n",
       "      <td>0</td>\n",
       "      <td>0</td>\n",
       "      <td>0</td>\n",
       "      <td>0</td>\n",
       "      <td>0</td>\n",
       "      <td>0</td>\n",
       "    </tr>\n",
       "    <tr>\n",
       "      <th>3</th>\n",
       "      <td>-0.0931102</td>\n",
       "      <td>0.07348</td>\n",
       "      <td>0.984752</td>\n",
       "      <td>0.830215</td>\n",
       "      <td>0.32306</td>\n",
       "      <td>0.0929072</td>\n",
       "      <td>-0.288653</td>\n",
       "      <td>-0.301643</td>\n",
       "      <td>-0.313369</td>\n",
       "      <td>-0.627826</td>\n",
       "      <td>...</td>\n",
       "      <td>0</td>\n",
       "      <td>0</td>\n",
       "      <td>0</td>\n",
       "      <td>0</td>\n",
       "      <td>0</td>\n",
       "      <td>0</td>\n",
       "      <td>1</td>\n",
       "      <td>0</td>\n",
       "      <td>0</td>\n",
       "      <td>0</td>\n",
       "    </tr>\n",
       "    <tr>\n",
       "      <th>4</th>\n",
       "      <td>-0.456474</td>\n",
       "      <td>-0.0968975</td>\n",
       "      <td>-1.86363</td>\n",
       "      <td>-0.720298</td>\n",
       "      <td>-0.57441</td>\n",
       "      <td>-0.499274</td>\n",
       "      <td>-0.288653</td>\n",
       "      <td>-0.0616696</td>\n",
       "      <td>-0.687324</td>\n",
       "      <td>-0.521734</td>\n",
       "      <td>...</td>\n",
       "      <td>0</td>\n",
       "      <td>0</td>\n",
       "      <td>0</td>\n",
       "      <td>0</td>\n",
       "      <td>0</td>\n",
       "      <td>0</td>\n",
       "      <td>0</td>\n",
       "      <td>0</td>\n",
       "      <td>0</td>\n",
       "      <td>0</td>\n",
       "    </tr>\n",
       "    <tr>\n",
       "      <th>5</th>\n",
       "      <td>0.633618</td>\n",
       "      <td>0.375148</td>\n",
       "      <td>0.951632</td>\n",
       "      <td>0.733308</td>\n",
       "      <td>1.36457</td>\n",
       "      <td>0.463568</td>\n",
       "      <td>-0.288653</td>\n",
       "      <td>-0.174865</td>\n",
       "      <td>0.19968</td>\n",
       "      <td>-0.0456113</td>\n",
       "      <td>...</td>\n",
       "      <td>0</td>\n",
       "      <td>0</td>\n",
       "      <td>0</td>\n",
       "      <td>0</td>\n",
       "      <td>0</td>\n",
       "      <td>0</td>\n",
       "      <td>0</td>\n",
       "      <td>0</td>\n",
       "      <td>0</td>\n",
       "      <td>1</td>\n",
       "    </tr>\n",
       "  </tbody>\n",
       "</table>\n",
       "<p>5 rows × 343 columns</p>\n",
       "</div>"
      ],
      "text/plain": [
       "   LotFrontage    LotArea YearBuilt YearRemodAdd MasVnrArea BsmtFinSF1  \\\n",
       "Id                                                                       \n",
       "1    -0.229372  -0.207142   1.05099     0.878668   0.511418   0.575425   \n",
       "2     0.451936 -0.0918864  0.156734    -0.429577   -0.57441    1.17199   \n",
       "3   -0.0931102    0.07348  0.984752     0.830215    0.32306  0.0929072   \n",
       "4    -0.456474 -0.0968975  -1.86363    -0.720298   -0.57441  -0.499274   \n",
       "5     0.633618   0.375148  0.951632     0.733308    1.36457   0.463568   \n",
       "\n",
       "   BsmtFinSF2  BsmtUnfSF TotalBsmtSF   1stFlrSF    ...    MoSold_2 MoSold_3  \\\n",
       "Id                                                 ...                        \n",
       "1   -0.288653  -0.944591   -0.459303  -0.793434    ...           0        0   \n",
       "2   -0.288653  -0.641228    0.466465    0.25714    ...           0        0   \n",
       "3   -0.288653  -0.301643   -0.313369  -0.627826    ...           0        0   \n",
       "4   -0.288653 -0.0616696   -0.687324  -0.521734    ...           0        0   \n",
       "5   -0.288653  -0.174865     0.19968 -0.0456113    ...           0        0   \n",
       "\n",
       "   MoSold_4 MoSold_5 MoSold_6 MoSold_7 MoSold_8 MoSold_9 MoSold_10 MoSold_11  \n",
       "Id                                                                            \n",
       "1         0        0        0        0        0        0         0         0  \n",
       "2         1        0        0        0        0        0         0         0  \n",
       "3         0        0        0        0        1        0         0         0  \n",
       "4         0        0        0        0        0        0         0         0  \n",
       "5         0        0        0        0        0        0         0         1  \n",
       "\n",
       "[5 rows x 343 columns]"
      ]
     },
     "execution_count": 14,
     "metadata": {},
     "output_type": "execute_result"
    }
   ],
   "source": [
    "# test the pipeline on train and test data\n",
    "preprocess = init_pipeline(df_out=True)\n",
    "X_tr_prep = preprocess.fit_transform(X_tr)\n",
    "\n",
    "print(\"preprocessed train data dimensions: {}\".format(X_tr_prep.shape))\n",
    "X_tr_prep.head()"
   ]
  },
  {
   "cell_type": "code",
   "execution_count": 15,
   "metadata": {},
   "outputs": [
    {
     "name": "stdout",
     "output_type": "stream",
     "text": [
      "preprocessed test data dimensions: (1459, 343)\n"
     ]
    },
    {
     "data": {
      "text/html": [
       "<div>\n",
       "<style scoped>\n",
       "    .dataframe tbody tr th:only-of-type {\n",
       "        vertical-align: middle;\n",
       "    }\n",
       "\n",
       "    .dataframe tbody tr th {\n",
       "        vertical-align: top;\n",
       "    }\n",
       "\n",
       "    .dataframe thead th {\n",
       "        text-align: right;\n",
       "    }\n",
       "</style>\n",
       "<table border=\"1\" class=\"dataframe\">\n",
       "  <thead>\n",
       "    <tr style=\"text-align: right;\">\n",
       "      <th></th>\n",
       "      <th>LotFrontage</th>\n",
       "      <th>LotArea</th>\n",
       "      <th>YearBuilt</th>\n",
       "      <th>YearRemodAdd</th>\n",
       "      <th>MasVnrArea</th>\n",
       "      <th>BsmtFinSF1</th>\n",
       "      <th>BsmtFinSF2</th>\n",
       "      <th>BsmtUnfSF</th>\n",
       "      <th>TotalBsmtSF</th>\n",
       "      <th>1stFlrSF</th>\n",
       "      <th>...</th>\n",
       "      <th>MoSold_2</th>\n",
       "      <th>MoSold_3</th>\n",
       "      <th>MoSold_4</th>\n",
       "      <th>MoSold_5</th>\n",
       "      <th>MoSold_6</th>\n",
       "      <th>MoSold_7</th>\n",
       "      <th>MoSold_8</th>\n",
       "      <th>MoSold_9</th>\n",
       "      <th>MoSold_10</th>\n",
       "      <th>MoSold_11</th>\n",
       "    </tr>\n",
       "    <tr>\n",
       "      <th>Id</th>\n",
       "      <th></th>\n",
       "      <th></th>\n",
       "      <th></th>\n",
       "      <th></th>\n",
       "      <th></th>\n",
       "      <th></th>\n",
       "      <th></th>\n",
       "      <th></th>\n",
       "      <th></th>\n",
       "      <th></th>\n",
       "      <th></th>\n",
       "      <th></th>\n",
       "      <th></th>\n",
       "      <th></th>\n",
       "      <th></th>\n",
       "      <th></th>\n",
       "      <th></th>\n",
       "      <th></th>\n",
       "      <th></th>\n",
       "      <th></th>\n",
       "      <th></th>\n",
       "    </tr>\n",
       "  </thead>\n",
       "  <tbody>\n",
       "    <tr>\n",
       "      <th>1461</th>\n",
       "      <td>0.451936</td>\n",
       "      <td>0.110763</td>\n",
       "      <td>-0.340077</td>\n",
       "      <td>-1.15638</td>\n",
       "      <td>-0.57441</td>\n",
       "      <td>0.0534285</td>\n",
       "      <td>0.604293</td>\n",
       "      <td>-0.672923</td>\n",
       "      <td>-0.400017</td>\n",
       "      <td>-0.689929</td>\n",
       "      <td>...</td>\n",
       "      <td>0</td>\n",
       "      <td>0</td>\n",
       "      <td>0</td>\n",
       "      <td>1</td>\n",
       "      <td>0</td>\n",
       "      <td>0</td>\n",
       "      <td>0</td>\n",
       "      <td>0</td>\n",
       "      <td>0</td>\n",
       "      <td>0</td>\n",
       "    </tr>\n",
       "    <tr>\n",
       "      <th>1462</th>\n",
       "      <td>0.497357</td>\n",
       "      <td>0.37585</td>\n",
       "      <td>-0.43944</td>\n",
       "      <td>-1.30174</td>\n",
       "      <td>0.0239034</td>\n",
       "      <td>1.05136</td>\n",
       "      <td>-0.288653</td>\n",
       "      <td>-0.365032</td>\n",
       "      <td>0.619239</td>\n",
       "      <td>0.430511</td>\n",
       "      <td>...</td>\n",
       "      <td>0</td>\n",
       "      <td>0</td>\n",
       "      <td>0</td>\n",
       "      <td>1</td>\n",
       "      <td>0</td>\n",
       "      <td>0</td>\n",
       "      <td>0</td>\n",
       "      <td>0</td>\n",
       "      <td>0</td>\n",
       "      <td>0</td>\n",
       "    </tr>\n",
       "    <tr>\n",
       "      <th>1463</th>\n",
       "      <td>0.179413</td>\n",
       "      <td>0.332053</td>\n",
       "      <td>0.852269</td>\n",
       "      <td>0.6364</td>\n",
       "      <td>-0.57441</td>\n",
       "      <td>0.761852</td>\n",
       "      <td>-0.288653</td>\n",
       "      <td>-0.974021</td>\n",
       "      <td>-0.295127</td>\n",
       "      <td>-0.607125</td>\n",
       "      <td>...</td>\n",
       "      <td>1</td>\n",
       "      <td>0</td>\n",
       "      <td>0</td>\n",
       "      <td>0</td>\n",
       "      <td>0</td>\n",
       "      <td>0</td>\n",
       "      <td>0</td>\n",
       "      <td>0</td>\n",
       "      <td>0</td>\n",
       "      <td>0</td>\n",
       "    </tr>\n",
       "    <tr>\n",
       "      <th>1464</th>\n",
       "      <td>0.361095</td>\n",
       "      <td>-0.0540024</td>\n",
       "      <td>0.88539</td>\n",
       "      <td>0.6364</td>\n",
       "      <td>-0.463612</td>\n",
       "      <td>0.347326</td>\n",
       "      <td>-0.288653</td>\n",
       "      <td>-0.550672</td>\n",
       "      <td>-0.299687</td>\n",
       "      <td>-0.6123</td>\n",
       "      <td>...</td>\n",
       "      <td>0</td>\n",
       "      <td>0</td>\n",
       "      <td>0</td>\n",
       "      <td>1</td>\n",
       "      <td>0</td>\n",
       "      <td>0</td>\n",
       "      <td>0</td>\n",
       "      <td>0</td>\n",
       "      <td>0</td>\n",
       "      <td>0</td>\n",
       "    </tr>\n",
       "    <tr>\n",
       "      <th>1465</th>\n",
       "      <td>-1.22862</td>\n",
       "      <td>-0.552407</td>\n",
       "      <td>0.686666</td>\n",
       "      <td>0.345679</td>\n",
       "      <td>-0.57441</td>\n",
       "      <td>-0.39619</td>\n",
       "      <td>-0.288653</td>\n",
       "      <td>1.01821</td>\n",
       "      <td>0.507509</td>\n",
       "      <td>0.303718</td>\n",
       "      <td>...</td>\n",
       "      <td>0</td>\n",
       "      <td>0</td>\n",
       "      <td>0</td>\n",
       "      <td>0</td>\n",
       "      <td>0</td>\n",
       "      <td>0</td>\n",
       "      <td>0</td>\n",
       "      <td>0</td>\n",
       "      <td>0</td>\n",
       "      <td>0</td>\n",
       "    </tr>\n",
       "  </tbody>\n",
       "</table>\n",
       "<p>5 rows × 343 columns</p>\n",
       "</div>"
      ],
      "text/plain": [
       "     LotFrontage    LotArea YearBuilt YearRemodAdd MasVnrArea BsmtFinSF1  \\\n",
       "Id                                                                         \n",
       "1461    0.451936   0.110763 -0.340077     -1.15638   -0.57441  0.0534285   \n",
       "1462    0.497357    0.37585  -0.43944     -1.30174  0.0239034    1.05136   \n",
       "1463    0.179413   0.332053  0.852269       0.6364   -0.57441   0.761852   \n",
       "1464    0.361095 -0.0540024   0.88539       0.6364  -0.463612   0.347326   \n",
       "1465    -1.22862  -0.552407  0.686666     0.345679   -0.57441   -0.39619   \n",
       "\n",
       "     BsmtFinSF2 BsmtUnfSF TotalBsmtSF  1stFlrSF    ...    MoSold_2 MoSold_3  \\\n",
       "Id                                                 ...                        \n",
       "1461   0.604293 -0.672923   -0.400017 -0.689929    ...           0        0   \n",
       "1462  -0.288653 -0.365032    0.619239  0.430511    ...           0        0   \n",
       "1463  -0.288653 -0.974021   -0.295127 -0.607125    ...           1        0   \n",
       "1464  -0.288653 -0.550672   -0.299687   -0.6123    ...           0        0   \n",
       "1465  -0.288653   1.01821    0.507509  0.303718    ...           0        0   \n",
       "\n",
       "     MoSold_4 MoSold_5 MoSold_6 MoSold_7 MoSold_8 MoSold_9 MoSold_10 MoSold_11  \n",
       "Id                                                                              \n",
       "1461        0        1        0        0        0        0         0         0  \n",
       "1462        0        1        0        0        0        0         0         0  \n",
       "1463        0        0        0        0        0        0         0         0  \n",
       "1464        0        1        0        0        0        0         0         0  \n",
       "1465        0        0        0        0        0        0         0         0  \n",
       "\n",
       "[5 rows x 343 columns]"
      ]
     },
     "execution_count": 15,
     "metadata": {},
     "output_type": "execute_result"
    }
   ],
   "source": [
    "X_te_prep = preprocess.transform(X_te)\n",
    "print(\"preprocessed test data dimensions: {}\".format(X_te_prep.shape))\n",
    "X_te_prep.head()"
   ]
  },
  {
   "cell_type": "code",
   "execution_count": 16,
   "metadata": {},
   "outputs": [],
   "source": [
    "# function to map transformed features back to human-readable names\n",
    "# for easier interpretation\n",
    "features_names_dict = {x[0][0]: x[1].categories_[0] for x in preprocess.steps[1][1].features}\n",
    "\n",
    "def feature_name(feature_name):\n",
    "    if '_' not in feature_name:\n",
    "        return feature_name\n",
    "\n",
    "    name, index = feature_name.split('_')\n",
    "    return \"{:s}_{}\".format(name, features_names_dict[name][int(index)])"
   ]
  },
  {
   "cell_type": "markdown",
   "metadata": {},
   "source": [
    "## 2. Exploratory Analysis\n",
    "Let's perform some very basic EDA. We'll start with univariate feature analysis (estimate linear relationship by calculating each features' F score). Additionally, we will bootstrap standard errors and pragmatically estimate the score that could easily be obtained by chance (via a permutation test)."
   ]
  },
  {
   "cell_type": "code",
   "execution_count": 17,
   "metadata": {},
   "outputs": [
    {
     "data": {
      "text/plain": [
       "64.14415614334128"
      ]
     },
     "execution_count": 17,
     "metadata": {},
     "output_type": "execute_result"
    }
   ],
   "source": [
    "# permutaion test\n",
    "f_scores = []\n",
    "y_tr_permutated = np.copy(y_tr)\n",
    "\n",
    "for _ in range(1000):\n",
    "    np.random.shuffle(y_tr_permutated)\n",
    "    f_score = f_regression(X_tr_prep, y_tr_permutated)\n",
    "    f_scores += f_score[0].tolist()\n",
    "\n",
    "f_score_chance = max(f_scores)\n",
    "f_score_chance"
   ]
  },
  {
   "cell_type": "code",
   "execution_count": 18,
   "metadata": {},
   "outputs": [],
   "source": [
    "# bootstrapping\n",
    "f_scores = np.empty((0, X_tr_prep.shape[1]))\n",
    "\n",
    "for _ in range(1000):\n",
    "    X_sample, y_sample = resample(X_tr_prep, y_tr, replace=True)\n",
    "\n",
    "    # remove warnings caused by constant features\n",
    "    with warnings.catch_warnings():\n",
    "        warnings.simplefilter('ignore')\n",
    "        f_score = f_regression(X_sample, y_sample)\n",
    "        f_scores = np.vstack((f_scores, f_score[0]))\n",
    "\n",
    "# 95 percent confidence intervals\n",
    "f_scores_se = mquantiles(f_scores, [.025, 0.5, .975], axis=0)"
   ]
  },
  {
   "cell_type": "code",
   "execution_count": 36,
   "metadata": {},
   "outputs": [],
   "source": [
    "df = pd.DataFrame({\n",
    "    'low': f_scores_se[0, :],\n",
    "    'mean': f_scores_se[1, :],\n",
    "    'high': f_scores_se[2, :],\n",
    "    'feature': [feature_name(x) for x in X_tr_prep.columns],\n",
    "    'feature_orig_name': X_tr_prep.columns})\n",
    "\n",
    "# drop features that had zero variance\n",
    "df = df.dropna()\n",
    "\n",
    "ordered_cat = df.sort_values(by='mean', ascending=False)['feature']\n",
    "df['feature'] = pd.Categorical(df['feature'], categories=ordered_cat, ordered=True)\n",
    "df = df.sort_values(by='mean', ascending=False)"
   ]
  },
  {
   "cell_type": "markdown",
   "metadata": {},
   "source": [
    "Now we can take a look at the number of features that are less correlated with the observed variable than could be by chance. Additionally, we will plot mean F scores along with standard errors for the best 20 features. When modelling, we could take advantage of all informative features (although we should keep in mind that uninformative could still be useful in combination with some other features)."
   ]
  },
  {
   "cell_type": "code",
   "execution_count": 37,
   "metadata": {},
   "outputs": [
    {
     "name": "stdout",
     "output_type": "stream",
     "text": [
      "number of features correlated less than by chance: 213\n"
     ]
    }
   ],
   "source": [
    "df_worst = df[df['mean'] < f_score_chance]\n",
    "print(\"number of features correlated less than by chance: {:d}\".format(len(df_worst)))"
   ]
  },
  {
   "cell_type": "code",
   "execution_count": 38,
   "metadata": {},
   "outputs": [
    {
     "data": {
      "image/png": "[encoded data removed]",
      "text/plain": [
       "<matplotlib.figure.Figure at 0x11ba2e898>"
      ]
     },
     "metadata": {},
     "output_type": "display_data"
    },
    {
     "data": {
      "text/plain": [
       "<ggplot: (292718249)>"
      ]
     },
     "execution_count": 38,
     "metadata": {},
     "output_type": "execute_result"
    }
   ],
   "source": [
    "df_top = df[df['mean'] > f_score_chance]\n",
    "df_top_20 = df_top.head(20)\n",
    "df_top_20['feature'].cat.remove_unused_categories(inplace=True)\n",
    "\n",
    "# visualize some top features\n",
    "(ggplot(df_top_20)\n",
    "    + geom_errorbar(\n",
    "        aes(x='feature',\n",
    "            ymin='low',\n",
    "            ymax='high',\n",
    "            color='feature',\n",
    "            size=1),\n",
    "        show_legend=False)\n",
    "    + geom_point(aes(x='feature', y='mean'), size=5, fill='white')\n",
    "    + labs(x='feature', y='F score')\n",
    "    + theme(axis_text_x=element_text(angle=90, hjust=1), figure_size=(12, 7)))"
   ]
  },
  {
   "cell_type": "markdown",
   "metadata": {},
   "source": [
    "## 3. Modelling\n",
    "\n",
    "### 3.1 Linear Relationships\n",
    "We will use linear regression as our first model. Let's first check if any of the assumptions we make about the underlying data (by selecting this particular parametric model) are violated. For now we won't care how much we (over)fit to the data, we are only using certain diagnostics to check whether our model is able to capture the given information. There are many assumptions that should be checked, but for now we will only inspect the normality of residuals."
   ]
  },
  {
   "cell_type": "code",
   "execution_count": 23,
   "metadata": {},
   "outputs": [
    {
     "data": {
      "image/png": "[encoded data removed]",
      "text/plain": [
       "<matplotlib.figure.Figure at 0x11c6c60b8>"
      ]
     },
     "metadata": {},
     "output_type": "display_data"
    },
    {
     "data": {
      "text/plain": [
       "<ggplot: (-9223372036556546858)>"
      ]
     },
     "execution_count": 23,
     "metadata": {},
     "output_type": "execute_result"
    }
   ],
   "source": [
    "lin_reg = LinearRegression()\n",
    "pipeline = init_pipeline(lin_reg)\n",
    "\n",
    "pipeline.fit(X_tr, y_tr)\n",
    "y_tr_pred = pipeline.predict(X_tr)\n",
    "\n",
    "residuals = y_tr - y_tr_pred\n",
    "residuals = (residuals - residuals.mean()) / residuals.std()\n",
    "\n",
    "qs = np.arange(0, 1.01, .01)\n",
    "theoretical_quantiles = norm.ppf(qs)\n",
    "sample_quantiles = mquantiles(residuals, qs)\n",
    "\n",
    "df = pd.DataFrame({'x': theoretical_quantiles, 'y': sample_quantiles})\n",
    "(ggplot(df)\n",
    "    + geom_point(aes(x='x', y='y'), color='blue')\n",
    "    + geom_line(aes(x='x', y='x'), color='red')\n",
    "    + labs(x='theoretical normal quantile', y='sample quantile')\n",
    "    + theme(figure_size=(9, 5)))"
   ]
  },
  {
   "cell_type": "markdown",
   "metadata": {},
   "source": [
    "It looks like residuals follow a distribution with slightly thinner tailes (compared to a Gaussian distribution). We will conclude, that residuals are \"enough\" normal for our purposes."
   ]
  },
  {
   "cell_type": "markdown",
   "metadata": {},
   "source": [
    "Let's search the hyper-parameter space of three different linear models (i.e. choices for priors: L1, L2, and elastic net regularization). Before that we will transform the response variable into the log-space, because prices are inherently positive values and hence we don't want to predict negative values. Alternatively, we could use a GLM with a logarithmic link."
   ]
  },
  {
   "cell_type": "code",
   "execution_count": 24,
   "metadata": {},
   "outputs": [],
   "source": [
    "# log-space transformation\n",
    "y_tr_log = y_tr.apply(np.log)"
   ]
  },
  {
   "cell_type": "code",
   "execution_count": 25,
   "metadata": {},
   "outputs": [],
   "source": [
    "# root mean squared log error in the original space\n",
    "def rmsle(y, y_pred):\n",
    "    y, y_pred = np.exp(y), np.exp(y_pred)\n",
    "    return np.sqrt(mean_squared_log_error(y, y_pred))\n",
    "\n",
    "rmsle = make_scorer(rmsle)"
   ]
  },
  {
   "cell_type": "code",
   "execution_count": 55,
   "metadata": {},
   "outputs": [],
   "source": [
    "def random_search(*transformers, params_dist):\n",
    "    pipeline = init_pipeline(*transformers)\n",
    "\n",
    "    random_search = RandomizedSearchCV(\n",
    "        estimator=pipeline,\n",
    "        param_distributions=params_dist,\n",
    "        cv=10,\n",
    "        n_iter=40,\n",
    "        scoring=rmsle)\n",
    "\n",
    "    random_search.fit(X_tr, y_tr_log)\n",
    "\n",
    "    mean_score = random_search.cv_results_['mean_test_score'][0]\n",
    "    std_score = random_search.cv_results_['std_test_score'][0]\n",
    "    print(\"root mean squared log error: {:.4f} (+/- {:.2f})\".format(mean_score, 2 * std_score))\n",
    "    print(\"best params: {}\".format(random_search.best_params_))\n",
    "\n",
    "    # best_estimator_ is refitted on the whole training dataset\n",
    "    return random_search.best_estimator_"
   ]
  },
  {
   "cell_type": "code",
   "execution_count": 29,
   "metadata": {},
   "outputs": [
    {
     "name": "stdout",
     "output_type": "stream",
     "text": [
      "root mean squared log error: 0.3986 (+/- 0.05)\n"
     ]
    }
   ],
   "source": [
    "# baseline\n",
    "baseline = DummyRegressor(strategy='mean')\n",
    "scores = cross_val_score(baseline, X_tr, y_tr_log, cv=10, scoring=rmsle)\n",
    "print(\"root mean squared log error: {:.4f} (+/- {:.2f})\".format(scores.mean(), 2 * scores.std()))"
   ]
  },
  {
   "cell_type": "code",
   "execution_count": 30,
   "metadata": {},
   "outputs": [
    {
     "name": "stdout",
     "output_type": "stream",
     "text": [
      "root mean squared log error: 0.1992 (+/- 0.05)\n",
      "best params: {'lasso__alpha': 0.097871834223276402}\n"
     ]
    }
   ],
   "source": [
    "# L1\n",
    "params_dist = {'lasso__alpha': uniform(1e-5, 1e-1)}\n",
    "lin_reg_l1 = random_search(Lasso(), params_dist=params_dist)"
   ]
  },
  {
   "cell_type": "code",
   "execution_count": 31,
   "metadata": {},
   "outputs": [
    {
     "name": "stdout",
     "output_type": "stream",
     "text": [
      "root mean squared log error: 0.1509 (+/- 0.09)\n",
      "best params: {'ridge__alpha': 0.00093400734865407679}\n"
     ]
    }
   ],
   "source": [
    "# L2\n",
    "params_dist = {'ridge__alpha': uniform(1e-5, 1e-1)}\n",
    "lin_reg_l2 = random_search(Ridge(), params_dist=params_dist)"
   ]
  },
  {
   "cell_type": "code",
   "execution_count": 32,
   "metadata": {},
   "outputs": [
    {
     "name": "stdout",
     "output_type": "stream",
     "text": [
      "root mean squared log error: 0.1787 (+/- 0.07)\n",
      "best params: {'elasticnet__alpha': 0.077342600961056981, 'elasticnet__l1_ratio': 0.97425866385723281}\n"
     ]
    }
   ],
   "source": [
    "# Elastic Net\n",
    "params_dist = {'elasticnet__alpha': uniform(1e-5, 1e-1), 'elasticnet__l1_ratio': uniform()}\n",
    "lin_reg_l1_l2 = random_search(ElasticNet(), params_dist=params_dist)"
   ]
  },
  {
   "cell_type": "markdown",
   "metadata": {},
   "source": [
    "It seems that L2 regularized model performs best in the current scenario (in my experience this is usually the case, at least if we are mainly interested in predictive power).\n",
    "\n",
    "Nevertheless, Lasso has a tendency to produce zero weights and could hence serve as a feature selection technique. We will inspect L1 regression coefficients next, but solely to get an initial notion. It is important to note that we won't make any claims based on the results. Linearity doesn't imply interpretability (in fact interpretation of regression coefficients requires a careful handling). Before making any claims there are at least two things we would have to do first. First we should inspect multicollinearity (e.g. by calculating pearsons correlation coefficients) and only include subsets of lowly correlated features. Additionally, we should obtain standard errors (by bootstrapping or using Bayesian inference). We won't perform this sort of EDA now as primary objective was to construct a predictive model (multicollinearity also doesn't hurt predictive performance)."
   ]
  },
  {
   "cell_type": "code",
   "execution_count": 236,
   "metadata": {},
   "outputs": [
    {
     "data": {
      "image/png": "[encoded data removed]",
      "text/plain": [
       "<matplotlib.figure.Figure at 0x15ab10860>"
      ]
     },
     "metadata": {},
     "output_type": "display_data"
    },
    {
     "data": {
      "text/plain": [
       "<ggplot: (297933183)>"
      ]
     },
     "execution_count": 236,
     "metadata": {},
     "output_type": "execute_result"
    }
   ],
   "source": [
    "l1_weights = lin_reg_l1.steps[-1][-1].coef_\n",
    "df = pd.DataFrame({\n",
    "    'feature': X_tr_prep.columns.values,\n",
    "    'w': l1_weights,\n",
    "    'w_abs': np.abs(l1_weights)})\n",
    "\n",
    "ordered_cat = df.sort_values(by='w_abs', ascending=False)['feature']\n",
    "df['feature'] = pd.Categorical(df['feature'], categories=ordered_cat, ordered=True)\n",
    "df = df.sort_values(by='w_abs', ascending=False).head(10)\n",
    "df['feature'].cat.remove_unused_categories(inplace=True)\n",
    "\n",
    "(ggplot(df)\n",
    "    + geom_bar(aes(x='feature', y='w'), stat='stat_identity', fill='blue')\n",
    "    + labs(x='feature', y='L1 w')\n",
    "    + theme(axis_text_x=element_text(angle=90, hjust=1), figure_size=(8, 6)))"
   ]
  },
  {
   "cell_type": "code",
   "execution_count": 242,
   "metadata": {},
   "outputs": [
    {
     "data": {
      "image/png": "[encoded data removed]",
      "text/plain": [
       "<matplotlib.figure.Figure at 0x125654ef0>"
      ]
     },
     "metadata": {},
     "output_type": "display_data"
    },
    {
     "data": {
      "text/plain": [
       "<ggplot: (-9223372036562647138)>"
      ]
     },
     "execution_count": 242,
     "metadata": {},
     "output_type": "execute_result"
    }
   ],
   "source": [
    "l1_l2_weights = lin_reg_l1_l2.steps[-1][-1].coef_\n",
    "df = pd.DataFrame({\n",
    "    'feature': X_tr_prep.columns.values,\n",
    "    'w': l1_l2_weights,\n",
    "    'w_abs': np.abs(l1_l2_weights)})\n",
    "\n",
    "ordered_cat = df.sort_values(by='w_abs', ascending=False)['feature']\n",
    "df['feature'] = pd.Categorical(df['feature'], categories=ordered_cat, ordered=True)\n",
    "df = df.sort_values(by='w_abs', ascending=False).head(10)\n",
    "df['feature'].cat.remove_unused_categories(inplace=True)\n",
    "\n",
    "(ggplot(df)\n",
    "    + geom_bar(aes(x='feature', y='w'), stat='stat_identity', fill='blue')\n",
    "    + labs(x='feature', y='Elastic Net w')\n",
    "    + theme(axis_text_x=element_text(angle=90, hjust=1), figure_size=(8, 6)))"
   ]
  },
  {
   "cell_type": "markdown",
   "metadata": {},
   "source": [
    "GrLivArea, GarageCars, YearBuilt, TotalBsmtSF, YearRemoddAdd and Fireplaces were selected by our Lasso and Elastic Net models. Given that all these features came up in our (top 20) univariate analysis before, this indicates that for some definition of informativeness, they are the most useful for predicting house prices. We should still be careful not to immediately declare correlation for causation. To do that we should make sure that there is enough data to remove the unwanted latent effects and use our domain knowledge to make final claims."
   ]
  },
  {
   "cell_type": "markdown",
   "metadata": {},
   "source": [
    "### 3.2 Non-linear relationships, heteroskedasticity\n",
    "Let's take a look at the residual vs fitted values plot next. The plot is used to detect non-linearity, unequal error variances, and outliers. Again, we are constructing it on the training dataset, hence we are only inspecting assumptions of the model, not its generalization."
   ]
  },
  {
   "cell_type": "code",
   "execution_count": 206,
   "metadata": {},
   "outputs": [
    {
     "data": {
      "image/png": "[encoded data removed]",
      "text/plain": [
       "<matplotlib.figure.Figure at 0x11b427588>"
      ]
     },
     "metadata": {},
     "output_type": "display_data"
    },
    {
     "data": {
      "text/plain": [
       "<ggplot: (297640445)>"
      ]
     },
     "execution_count": 206,
     "metadata": {},
     "output_type": "execute_result"
    }
   ],
   "source": [
    "y_tr_log_pred = lin_reg_l2.predict(X_tr)\n",
    "\n",
    "residuals = y_tr_log - y_tr_log_pred\n",
    "residuals = (residuals - residuals.mean()) / residuals.std()\n",
    "\n",
    "df = pd.DataFrame({'x': y_tr_log_pred, 'y': residuals})\n",
    "\n",
    "(ggplot(df)\n",
    "    + geom_point(aes(x='x', y='y'), color='blue')\n",
    "    + geom_smooth(aes(x='x', y='y'), method='loess', color='red')\n",
    "    + labs(x='fitted log values', y='residuals')\n",
    "    + theme(figure_size=(10, 7)))"
   ]
  },
  {
   "cell_type": "markdown",
   "metadata": {},
   "source": [
    "It seems that for middle examples (fitted log values) variance is constant and relationship linear, with a few extreme exceptions that should be inspected further (could very well be outliers). There is more variability at low and high values  due to small number of examples (with really low and really large house prices) and there may bo some non-linear relationship that we are not capturing in this regions. Let's try to model simple non-linear relationships next, but we shouldn't expect much improvement (if at all) based on the residual vs fitted values plot."
   ]
  },
  {
   "cell_type": "code",
   "execution_count": 268,
   "metadata": {},
   "outputs": [],
   "source": [
    "# do fss prior to expansion to avoid blowing up feature space\n",
    "remove_constant = VarianceThreshold(threshold=0)\n",
    "select_k_best = SelectKBest(score_func=f_regression)\n",
    "poly_expand = PolynomialFeatures(include_bias=False)"
   ]
  },
  {
   "cell_type": "code",
   "execution_count": 269,
   "metadata": {},
   "outputs": [
    {
     "name": "stdout",
     "output_type": "stream",
     "text": [
      "root mean squared log error: 0.2116 (+/- 0.05)\n",
      "best params: {'lasso__alpha': 0.099593000341139867, 'selectkbest-1__k': 110, 'selectkbest-2__k': 385}\n"
     ]
    }
   ],
   "source": [
    "# L1\n",
    "params_dist = {\n",
    "    'selectkbest-1__k': randint(80, 200),\n",
    "    'selectkbest-2__k': randint(300, 400),\n",
    "    'lasso__alpha': uniform(1e-5, 1e-1)}\n",
    "\n",
    "lin_reg_l1_poly = random_search(\n",
    "    remove_constant,\n",
    "    select_k_best,\n",
    "    poly_expand,\n",
    "    remove_constant,\n",
    "    select_k_best,\n",
    "    Lasso(max_iter=5000),\n",
    "    params_dist=params_dist)"
   ]
  },
  {
   "cell_type": "code",
   "execution_count": 270,
   "metadata": {},
   "outputs": [
    {
     "name": "stdout",
     "output_type": "stream",
     "text": [
      "root mean squared log error: 0.1836 (+/- 0.05)\n",
      "best params: {'ridge__alpha': 0.0023510232647960495, 'selectkbest-1__k': 118, 'selectkbest-2__k': 394}\n"
     ]
    }
   ],
   "source": [
    "# L2\n",
    "params_dist = {\n",
    "    'selectkbest-1__k': randint(80, 200),\n",
    "    'selectkbest-2__k': randint(300, 400),\n",
    "    'ridge__alpha': uniform(1e-5, 1e-1)}\n",
    "\n",
    "lin_reg_l2_poly = random_search(\n",
    "    remove_constant,\n",
    "    select_k_best,\n",
    "    poly_expand,\n",
    "    remove_constant,\n",
    "    select_k_best,\n",
    "    Ridge(),\n",
    "    params_dist=params_dist)"
   ]
  },
  {
   "cell_type": "code",
   "execution_count": 271,
   "metadata": {},
   "outputs": [
    {
     "name": "stdout",
     "output_type": "stream",
     "text": [
      "root mean squared log error: 0.1650 (+/- 0.05)\n",
      "best params: {'elasticnet__alpha': 0.097115420683051554, 'elasticnet__l1_ratio': 0.73612587595755707, 'selectkbest-1__k': 150, 'selectkbest-2__k': 313}\n"
     ]
    }
   ],
   "source": [
    "# Elastic Net\n",
    "params_dist = {\n",
    "    'selectkbest-1__k': randint(80, 200),\n",
    "    'selectkbest-2__k': randint(300, 400),\n",
    "    'elasticnet__alpha': uniform(1e-5, 1e-1),\n",
    "    'elasticnet__l1_ratio': uniform()}\n",
    "\n",
    "lin_reg_l1_l2_poly = random_search(\n",
    "    remove_constant,\n",
    "    select_k_best,\n",
    "    poly_expand,\n",
    "    remove_constant,\n",
    "    select_k_best,\n",
    "    ElasticNet(max_iter=5000),\n",
    "    params_dist=params_dist)"
   ]
  },
  {
   "cell_type": "markdown",
   "metadata": {},
   "source": [
    "It looks like the result is not improving by polynimially expanding the feature space (this was expected based on the previous plot). We could still do a more comprehensive search for feature subset selection (leaving more features and using more agressive regularization), but won't do so because of limited resources (running on a laptop)."
   ]
  },
  {
   "cell_type": "markdown",
   "metadata": {},
   "source": [
    "## 4. Next Steps\n",
    "**I would take the next steps (in the order of importance) given more time.**\n",
    "\n",
    "- **Use domain knowledge to manually engineer features is where we can gain the most predictive power so this would be the next step.**\n",
    "\n",
    "- **Further analysis of the residual vs fitted values plot would allow us to understand which samples we make the biggest mistakes at and help us detect outliers.**\n",
    "\n",
    "- Try PCA to transorm feature space.\n",
    "\n",
    "- Turn to more complex ML algorithms and ensembling (even a simple average of current models should give some additional predictive power).\n",
    "\n",
    "- We should go back to data cleaning: cross-validate ordinal and poisson feature encoding and different imputation schemes.\n",
    "\n",
    "- When we construct a sufficiently-performing model, we should approximate out-of-the-sample performance by calculating the score on the *X_te* test set (preferably only once) and report that (not the score from the cross-validation procedure).\n",
    "\n",
    "- If we wanted to understand the relationships between predictors and the response variable even better, we should extend our univariate feature analysis. E.g. we could use Bayesian linear regression to obtain posterior regression coefficients. As stated above, multicollinearity should be taken care of first."
   ]
  },
  {
   "cell_type": "code",
   "execution_count": null,
   "metadata": {},
   "outputs": [],
   "source": []
  }
 ],
 "metadata": {
  "kernelspec": {
   "display_name": "Python 3",
   "language": "python",
   "name": "python3"
  },
  "language_info": {
   "codemirror_mode": {
    "name": "ipython",
    "version": 3
   },
   "file_extension": ".py",
   "mimetype": "text/x-python",
   "name": "python",
   "nbconvert_exporter": "python",
   "pygments_lexer": "ipython3",
   "version": "3.6.4"
  }
 },
 "nbformat": 4,
 "nbformat_minor": 2
}
